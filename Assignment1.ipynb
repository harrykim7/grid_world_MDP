{
 "metadata": {
  "language_info": {
   "codemirror_mode": {
    "name": "ipython",
    "version": 3
   },
   "file_extension": ".py",
   "mimetype": "text/x-python",
   "name": "python",
   "nbconvert_exporter": "python",
   "pygments_lexer": "ipython3",
   "version": "3.8.3-final"
  },
  "orig_nbformat": 2,
  "kernelspec": {
   "name": "python3",
   "display_name": "Python 3.8.3 64-bit (conda)",
   "metadata": {
    "interpreter": {
     "hash": "b3ba2566441a7c06988d0923437866b63cedc61552a5af99d1f4fb67d367b25f"
    }
   }
  }
 },
 "nbformat": 4,
 "nbformat_minor": 2,
 "cells": [
  {
   "cell_type": "code",
   "execution_count": 1,
   "metadata": {
    "tags": []
   },
   "outputs": [
    {
     "output_type": "stream",
     "name": "stdout",
     "text": [
      "[ 3.30899634  8.78929186  4.42761918  5.32236759  1.49217876  1.52158807\n  2.99231786  2.25013995  1.9075717   0.54740271  0.05082249  0.73817059\n  0.67311326  0.35818621 -0.40314114 -0.9735923  -0.43549543 -0.35488227\n -0.58560509 -1.18307508 -1.85770055 -1.34523126 -1.22926726 -1.42291815\n -1.97517905]\n"
     ]
    }
   ],
   "source": [
    "import numpy as np \n",
    "\n",
    "def create_grid(size): #creates size*size grid with the coordinates as values\n",
    "    aList =[]\n",
    "    for y in range(size):\n",
    "        aList.append([])\n",
    "        for x in range(size):\n",
    "            aList[y].append([y+1,x+1])\n",
    "\n",
    "    return aList\n",
    "\n",
    "def out_of_cell(cell): #cell is represented as [y,x]\n",
    "    if cell[0] < 1 or cell[0] > size:\n",
    "        return True\n",
    "    elif cell[1] < 1 or cell[1] > size: \n",
    "        return True \n",
    "    else:\n",
    "        return False\n",
    "\n",
    "def reward(og,coord):\n",
    "    if out_of_cell(coord) == True: #cell is out of bounds\n",
    "        return [og,-1] #return to original state with -1 reward\n",
    "    else:\n",
    "        return [coord,0] #if not move on with reward = 0\n",
    "\n",
    "def make_A(a,cell_a,cell,m):\n",
    "    #creates the size*size len array for Ax=b calculations\n",
    "    A = [0]*(size*size)\n",
    "    for coord in a:\n",
    "        #Grab the locations of the coordinates\n",
    "        loc = (coord[0]-1)*size + coord[1]\n",
    "        cell_loc =  (cell[0]-1)*size + cell[1]\n",
    "        A[loc-1] =  -m  #m is policy * decay \n",
    "        A[cell_loc-1] = cell_a\n",
    "\n",
    "    return A\n",
    "\n",
    "def laddar_cell(x,d):\n",
    "    #Making the array A when you're at the laddar cells \n",
    "    coord = x[1]\n",
    "    cell = x[0]\n",
    "    A = [0]*(size*size)\n",
    "    loc = (coord[0]-1)*size + coord[1]\n",
    "    cell_loc =  (cell[0]-1)*size + cell[1]\n",
    "    A[loc-1] = -d  #the polict probility is 1 \n",
    "    A[cell_loc -1] = 1 #nothing to minus itself by\n",
    "    return A\n",
    "\n",
    "def cell_calculation(cell,p=0.25,d=0.9):\n",
    "    #put the \"ladders\" here as a list where [0] is the first location, [1] is the destination and [2] is the reward\n",
    "    A = [[1,2],[5,2],10]\n",
    "    B = [[1,4],[3,4],5]\n",
    "\n",
    "    if cell == A[0]:\n",
    "        return (laddar_cell(A,d),A[2]) #b will simply be the reward\n",
    "    elif cell == B[0]:\n",
    "        return (laddar_cell(B,d),B[2])\n",
    "\n",
    "    north,east,south,west = cell.copy(), cell.copy() ,cell.copy() ,cell.copy() \n",
    "    north[0] -=1\n",
    "    south[0] +=1\n",
    "    east[1] +=1\n",
    "    west[1] -=1\n",
    "    \n",
    "    #this could be in a loop I know \n",
    "    north = reward(cell,north)\n",
    "    south = reward(cell,south)\n",
    "    east = reward(cell,east)\n",
    "    west = reward(cell,west)\n",
    "\n",
    "    directions = []\n",
    "    directions.append(north)\n",
    "    directions.append(south)\n",
    "    directions.append(east)\n",
    "    directions.append(west)\n",
    "\n",
    "    b = p*north[1] + p*south[1] + p*east[1] + p*west[1] #get b after it's been simplified \n",
    "    m = p*d #m is the value assigned to the neighouring cells \n",
    "    cell_a = 1 #current cell on the left side of the equation starts at 1, gets lower if the state goes out of bounds\n",
    "    a= [] \n",
    "    for i in directions:\n",
    "        if i[0] == cell: #cell went out of bounds and came back to original cell \n",
    "            cell_a -= m\n",
    "        else: \n",
    "            a.append(i[0]) #append the locations \n",
    "\n",
    "    A = make_A(a,cell_a,cell,m)\n",
    "    return [A,b]\n",
    "\n",
    "size=5\n",
    "grid = create_grid(size)\n",
    "\n",
    "A=[]\n",
    "b=[]\n",
    "\n",
    "#iterate through every cell and calculate a,b\n",
    "for row in grid:\n",
    "    for x in row:\n",
    "        data = cell_calculation(x)\n",
    "        A.append(data[0])\n",
    "        b.append(data[1])\n",
    "\n",
    "x = np.linalg.lstsq(A,b)\n",
    "print(x[0])\n"
   ]
  },
  {
   "source": [
    "def create_grid(size): #creates size x size grid with the coordinates as values\n",
    "    aList =[]\n",
    "    for y in range(size):\n",
    "        aList.append([])\n",
    "        for x in range(size):\n",
    "            aList[y].append([y+1,x+1])\n",
    "\n",
    "    return aList\n",
    "create_grid(5)"
   ],
   "cell_type": "code",
   "metadata": {},
   "execution_count": 173,
   "outputs": [
    {
     "output_type": "execute_result",
     "data": {
      "text/plain": [
       "[[[1, 1], [1, 2], [1, 3], [1, 4], [1, 5]],\n",
       " [[2, 1], [2, 2], [2, 3], [2, 4], [2, 5]],\n",
       " [[3, 1], [3, 2], [3, 3], [3, 4], [3, 5]],\n",
       " [[4, 1], [4, 2], [4, 3], [4, 4], [4, 5]],\n",
       " [[5, 1], [5, 2], [5, 3], [5, 4], [5, 5]]]"
      ]
     },
     "metadata": {},
     "execution_count": 173
    }
   ]
  },
  {
   "cell_type": "code",
   "execution_count": 175,
   "metadata": {},
   "outputs": [
    {
     "output_type": "stream",
     "name": "stdout",
     "text": [
      "[[1, 2], [5, 2], 10]\n"
     ]
    }
   ],
   "source": [
    "five_ladder = [[[1,2],[5,2],10],[[1,4],[3,4],5]]\n",
    "print(five_ladder[0])"
   ]
  },
  {
   "cell_type": "code",
   "execution_count": null,
   "metadata": {},
   "outputs": [],
   "source": []
  }
 ]
}